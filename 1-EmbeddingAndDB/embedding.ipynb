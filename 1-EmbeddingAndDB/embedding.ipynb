{
 "cells": [
  {
   "cell_type": "markdown",
   "metadata": {},
   "source": [
    "## What Are Embeddings?\n",
    "Think of embeddings as a way to translate words into a language that computers understand - numbers!"
   ]
  },
  {
   "cell_type": "code",
   "execution_count": null,
   "metadata": {},
   "outputs": [],
   "source": [
    "import numpy as np\n",
    "import matplotlib.pyplot as plt\n"
   ]
  },
  {
   "cell_type": "code",
   "execution_count": null,
   "metadata": {},
   "outputs": [],
   "source": [
    "# simplified 2D example with hardcoded embedding vectors (real embeddings have hundreds of dimensions)\n",
    "word_embeddings = {\n",
    "    \"cat\": [0.8, 0.6],\n",
    "    \"kitten\": [0.75, 0.65],\n",
    "    \"dog\": [0.7, 0.3],\n",
    "    \"puppy\": [0.65, 0.35],\n",
    "    \"car\": [-0.5, 0.2],\n",
    "    \"truck\": [-0.45, 0.15]\n",
    "}"
   ]
  },
  {
   "cell_type": "code",
   "execution_count": null,
   "metadata": {},
   "outputs": [],
   "source": [
    "# plot this embedding in 2d plane\n",
    "fig, ax = plt.subplots(figsize=(8, 6))\n",
    "\n",
    "for word, coords in word_embeddings.items():\n",
    "    ax.scatter(coords[0], coords[1], s=100)\n",
    "    ax.annotate(word, (coords[0], coords[1]), xytext=(5, 5), \n",
    "                textcoords='offset points')\n",
    "\n",
    "ax.set_xlabel('Dimension 1')\n",
    "ax.set_ylabel('Dimension 2')\n",
    "ax.set_title('Simplified Word Embeddings in 2D Space')\n",
    "ax.grid(True, alpha=0.3)\n",
    "\n",
    "plt.tight_layout()\n",
    "plt.show()"
   ]
  },
  {
   "cell_type": "markdown",
   "metadata": {},
   "source": [
    "## Measuring Similarity of vectors / embeddings"
   ]
  },
  {
   "cell_type": "code",
   "execution_count": null,
   "metadata": {},
   "outputs": [],
   "source": [
    "# find the cosine similarity between two vectors (embeddings)\n",
    "def cosine_similarity(vec1, vec2):\n",
    "    \"\"\"\n",
    "    Cosine similarity measures the angle between two vectors.\n",
    "    - Result close to 1: Very similar\n",
    "    - Result close to 0: Not related\n",
    "    - Result close to -1: Opposite meanings\n",
    "    \"\"\"\n",
    "\n",
    "    dot_product=np.dot(vec1,vec2)\n",
    "    norm_a=np.linalg.norm(vec1)\n",
    "    norm_b=np.linalg.norm(vec2)\n",
    "    return dot_product/(norm_a * norm_b)\n",
    "\n"
   ]
  },
  {
   "cell_type": "code",
   "execution_count": null,
   "metadata": {},
   "outputs": [],
   "source": [
    "# Example hardcoded vectors\n",
    "cat_vector = [0.8, 0.6, 0.3]\n",
    "kitten_vector = [0.75, 0.65, 0.35]\n",
    "car_vector = [-0.5, 0.2, 0.1]\n",
    "\n",
    "cat_kitten_similarity=cosine_similarity(cat_vector,kitten_vector)\n",
    "print(\"cat vs kitten similarity=\",cat_kitten_similarity)\n",
    "\n",
    "cat_car_similarity=cosine_similarity(cat_vector,car_vector)\n",
    "print(\"cat vs car similarity=\",cat_car_similarity)"
   ]
  },
  {
   "cell_type": "markdown",
   "metadata": {},
   "source": [
    "### Creating Your First Embeddings with HuggingFaceEmbeddings"
   ]
  },
  {
   "cell_type": "code",
   "execution_count": null,
   "metadata": {},
   "outputs": [],
   "source": [
    "from langchain_huggingface import HuggingFaceEmbeddings\n",
    "\n",
    "## Initialize a simple Embedding model(no API Key needed!)\n",
    "hf_embeddings=HuggingFaceEmbeddings(\n",
    "    model_name=\"sentence-transformers/all-MiniLM-L6-v2\"\n",
    ")\n",
    "hf_embeddings\n"
   ]
  },
  {
   "cell_type": "code",
   "execution_count": null,
   "metadata": {},
   "outputs": [],
   "source": [
    "## create first embeddings from sentence using HF embedding\n",
    "text=\"Hello, I am learning about embeddings!\"\n",
    "\n",
    "embedding=hf_embeddings.embed_query(text)\n",
    "print(f\"Text: {text}\")\n",
    "print(f\"Embedding length : {len(embedding)}\")\n",
    "print(embedding)\n"
   ]
  },
  {
   "cell_type": "code",
   "execution_count": null,
   "metadata": {},
   "outputs": [],
   "source": []
  },
  {
   "cell_type": "code",
   "execution_count": null,
   "metadata": {},
   "outputs": [],
   "source": [
    "## create first embeddings from list of sentence\n",
    "sentences = [\n",
    "    \"The cat sat on the mat\",\n",
    "    \"The cat sat on the mat\",\n",
    "    \"The dog played in the yard\",\n",
    "    \"I love programming in Python\",\n",
    "    \"Python is my favorite programming language\"\n",
    "]\n",
    "\n",
    "embedded_sentences=hf_embeddings.embed_documents(sentences)\n",
    "\n",
    "print(embedded_sentences[0])\n",
    "print(embedded_sentences[1])"
   ]
  },
  {
   "cell_type": "markdown",
   "metadata": {},
   "source": [
    "## Similarity between sentence pairs"
   ]
  },
  {
   "cell_type": "code",
   "execution_count": null,
   "metadata": {},
   "outputs": [],
   "source": [
    "for i in range(len(sentences)):\n",
    "    for j in range(i+1,len(sentences)):\n",
    "        similarity=cosine_similarity(embedded_sentences[i],embedded_sentences[j])\n",
    "\n",
    "        print(f\"'{sentences[i]}' vs '{sentences[j]}'\")\n",
    "        print(f\"Similarity: {similarity:.3f}\\n\")"
   ]
  },
  {
   "cell_type": "markdown",
   "metadata": {},
   "source": [
    "## Vector search "
   ]
  },
  {
   "cell_type": "code",
   "execution_count": null,
   "metadata": {},
   "outputs": [],
   "source": [
    "# vector search search - retrieve the similar sentence using vector search using a algorithm like cosine function\n",
    "# semantic search - use LLM to find meaning in search\n",
    "documents = [\n",
    "    \"LangChain is a framework for developing applications powered by language models\",\n",
    "    \"Python is a high-level programming language\",\n",
    "    \"Machine learning is a subset of artificial intelligence\",\n",
    "    \"Embeddings convert text into numerical vectors\",\n",
    "    \"The weather today is sunny and warm\"\n",
    "]\n",
    "query=\"What is Langchain?\""
   ]
  },
  {
   "cell_type": "code",
   "execution_count": 60,
   "metadata": {},
   "outputs": [],
   "source": [
    "def vector_search(query,documents,embeddings_models,top_k=3):\n",
    "    \"\"\"Simple semantic search implementation\"\"\"\n",
    "\n",
    "    ## embed query and document\n",
    "    query_embedding=embeddings_models.embed_query(query)\n",
    "    doc_embeddings = embeddings_models.embed_documents(documents)\n",
    "\n",
    "    ## Calculate the similarity score across all doc for query\n",
    "    similarities=[]\n",
    "    for i,doc_emb in enumerate(doc_embeddings):\n",
    "        similarity=cosine_similarity(query_embedding,doc_emb)\n",
    "        similarities.append((similarity,documents[i]))\n",
    "\n",
    "    ## Sort by similarity to get top similarity\n",
    "    similarities.sort(reverse=True)\n",
    "    return similarities[:top_k]"
   ]
  },
  {
   "cell_type": "code",
   "execution_count": 61,
   "metadata": {},
   "outputs": [
    {
     "data": {
      "text/plain": [
       "[(np.float64(0.560072625106014),\n",
       "  'Embeddings convert text into numerical vectors'),\n",
       " (np.float64(0.2350027453874689),\n",
       "  'Machine learning is a subset of artificial intelligence'),\n",
       " (np.float64(0.17217240684423185),\n",
       "  'LangChain is a framework for developing applications powered by language models')]"
      ]
     },
     "execution_count": 61,
     "metadata": {},
     "output_type": "execute_result"
    }
   ],
   "source": [
    "results = vector_search(query,documents,hf_embeddings)\n",
    "results"
   ]
  },
  {
   "cell_type": "code",
   "execution_count": null,
   "metadata": {},
   "outputs": [],
   "source": [
    "# format result for better displaying\n",
    "print(f\"\\n🔎 Semantic Search Results for: '{query}'\")\n",
    "for score, doc in results:\n",
    "    print(f\"Score: {score:.3f} | {doc}\")"
   ]
  },
  {
   "cell_type": "code",
   "execution_count": 62,
   "metadata": {},
   "outputs": [
    {
     "data": {
      "text/plain": [
       "[(np.float64(0.560072625106014),\n",
       "  'Embeddings convert text into numerical vectors'),\n",
       " (np.float64(0.2350027453874689),\n",
       "  'Machine learning is a subset of artificial intelligence'),\n",
       " (np.float64(0.17217240684423185),\n",
       "  'LangChain is a framework for developing applications powered by language models')]"
      ]
     },
     "execution_count": 62,
     "metadata": {},
     "output_type": "execute_result"
    }
   ],
   "source": [
    "# new query\n",
    "query=\"What is Embeddings?\"\n",
    "results=vector_search(query,documents,hf_embeddings)\n",
    "results"
   ]
  },
  {
   "cell_type": "markdown",
   "metadata": {},
   "source": [
    "### HuggingFaceEmbeddings models use cases"
   ]
  },
  {
   "cell_type": "code",
   "execution_count": null,
   "metadata": {},
   "outputs": [],
   "source": [
    "from langchain_huggingface import HuggingFaceEmbeddings\n",
    "import time\n",
    "\n",
    "# Popular models comparison\n",
    "models = {\n",
    "    \"all-MiniLM-L6-v2\": {\n",
    "        \"size\": 384,\n",
    "        \"description\": \"Fast and efficient, good quality\",\n",
    "        \"use_case\": \"General purpose, real-time applications\"\n",
    "    },\n",
    "    \"all-mpnet-base-v2\": {\n",
    "        \"size\": 768,\n",
    "        \"description\": \"Best quality, slower than MiniLM\",\n",
    "        \"use_case\": \"When quality matters more than speed\"\n",
    "    },\n",
    "    \"all-MiniLM-L12-v2\": {\n",
    "        \"size\": 384,\n",
    "        \"description\": \"Slightly better than L6, bit slower\",\n",
    "        \"use_case\": \"Good balance of speed and quality\"\n",
    "    },\n",
    "    \"multi-qa-MiniLM-L6-cos-v1\": {\n",
    "        \"size\": 384,\n",
    "        \"description\": \"Optimized for question-answering\",\n",
    "        \"use_case\": \"Q&A systems, semantic search\"\n",
    "    },\n",
    "    \"paraphrase-multilingual-MiniLM-L12-v2\": {\n",
    "        \"size\": 384,\n",
    "        \"description\": \"Supports 50+ languages\",\n",
    "        \"use_case\": \"Multilingual applications\"\n",
    "    }\n",
    "}\n",
    "\n",
    "print(\"📊 Popular Open Source Embedding Models:\\n\")\n",
    "for model_name, info in models.items():\n",
    "    print(f\"Model: sentence-transformers/{model_name}\")\n",
    "    print(f\"  📏 Embedding size: {info['size']} dimensions\")\n",
    "    print(f\"  📝 Description: {info['description']}\")\n",
    "    print(f\"  🎯 Use case: {info['use_case']}\\n\")\n"
   ]
  },
  {
   "cell_type": "markdown",
   "metadata": {},
   "source": []
  }
 ],
 "metadata": {
  "kernelspec": {
   "display_name": ".venv",
   "language": "python",
   "name": "python3"
  },
  "language_info": {
   "codemirror_mode": {
    "name": "ipython",
    "version": 3
   },
   "file_extension": ".py",
   "mimetype": "text/x-python",
   "name": "python",
   "nbconvert_exporter": "python",
   "pygments_lexer": "ipython3",
   "version": "3.13.7"
  },
  "orig_nbformat": 4
 },
 "nbformat": 4,
 "nbformat_minor": 2
}
