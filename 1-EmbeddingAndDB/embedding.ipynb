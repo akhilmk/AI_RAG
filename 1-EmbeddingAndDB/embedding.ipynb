{
 "cells": [
  {
   "cell_type": "markdown",
   "metadata": {},
   "source": [
    "### What Are Embeddings?\n",
    "Think of embeddings as a way to translate words into a language that computers understand - numbers!"
   ]
  },
  {
   "cell_type": "code",
   "execution_count": null,
   "metadata": {},
   "outputs": [],
   "source": [
    "import numpy as np\n",
    "import matplotlib.pyplot as plt\n"
   ]
  },
  {
   "cell_type": "code",
   "execution_count": null,
   "metadata": {},
   "outputs": [],
   "source": [
    "# Simplified 2D example (real embeddings have hundreds of dimensions)\n",
    "word_embeddings = {\n",
    "    \"cat\": [0.8, 0.6],\n",
    "    \"kitten\": [0.75, 0.65],\n",
    "    \"dog\": [0.7, 0.3],\n",
    "    \"puppy\": [0.65, 0.35],\n",
    "    \"car\": [-0.5, 0.2],\n",
    "    \"truck\": [-0.45, 0.15]\n",
    "}"
   ]
  },
  {
   "cell_type": "code",
   "execution_count": null,
   "metadata": {},
   "outputs": [],
   "source": [
    "fig, ax = plt.subplots(figsize=(8, 6))\n",
    "\n",
    "for word, coords in word_embeddings.items():\n",
    "    ax.scatter(coords[0], coords[1], s=100)\n",
    "    ax.annotate(word, (coords[0], coords[1]), xytext=(5, 5), \n",
    "                textcoords='offset points')\n",
    "\n",
    "ax.set_xlabel('Dimension 1')\n",
    "ax.set_ylabel('Dimension 2')\n",
    "ax.set_title('Simplified Word Embeddings in 2D Space')\n",
    "ax.grid(True, alpha=0.3)\n",
    "\n",
    "plt.tight_layout()\n",
    "plt.show()"
   ]
  },
  {
   "cell_type": "markdown",
   "metadata": {},
   "source": [
    "## Measuring Similarity"
   ]
  },
  {
   "cell_type": "code",
   "execution_count": null,
   "metadata": {},
   "outputs": [],
   "source": [
    "def cosine_similarity(vec1, vec2):\n",
    "    \"\"\"\n",
    "    Cosine similarity measures the angle between two vectors.\n",
    "    - Result close to 1: Very similar\n",
    "    - Result close to 0: Not related\n",
    "    - Result close to -1: Opposite meanings\n",
    "    \"\"\"\n",
    "\n",
    "    dot_product=np.dot(vec1,vec2)\n",
    "    norm_a=np.linalg.norm(vec1)\n",
    "    norm_b=np.linalg.norm(vec2)\n",
    "    return dot_product/(norm_a * norm_b)\n",
    "\n"
   ]
  },
  {
   "cell_type": "code",
   "execution_count": null,
   "metadata": {},
   "outputs": [],
   "source": [
    "# Example\n",
    "cat_vector = [0.8, 0.6, 0.3]\n",
    "kitten_vector = [0.75, 0.65, 0.35]\n",
    "car_vector = [-0.5, 0.2, 0.1]\n",
    "\n",
    "cat_kitten_similarity=cosine_similarity(cat_vector,kitten_vector)\n",
    "print(cat_kitten_similarity)"
   ]
  },
  {
   "cell_type": "markdown",
   "metadata": {},
   "source": [
    "### Creating Your First Embeddings"
   ]
  },
  {
   "cell_type": "code",
   "execution_count": null,
   "metadata": {},
   "outputs": [],
   "source": [
    "from langchain_huggingface import HuggingFaceEmbeddings\n",
    "\n",
    "## Initialize a simple Embedding model(no API Key needed!)\n",
    "embeddings=HuggingFaceEmbeddings(\n",
    "    model_name=\"sentence-transformers/all-MiniLM-L6-v2\"\n",
    ")\n",
    "embeddings\n"
   ]
  },
  {
   "cell_type": "code",
   "execution_count": null,
   "metadata": {},
   "outputs": [],
   "source": [
    "## create your first embeddings\n",
    "text=\"Hello, I am learning about embeddings!\"\n",
    "\n",
    "embedding=embeddings.embed_query(text)\n",
    "print(f\"Text: {text}\")\n",
    "print(f\"Embedding length : {len(embedding)}\")\n",
    "print(embedding)\n"
   ]
  },
  {
   "cell_type": "code",
   "execution_count": null,
   "metadata": {},
   "outputs": [],
   "source": [
    "sentences = [\n",
    "    \"The cat sat on the mat\",\n",
    "    \"The cat sat on the mat\",\n",
    "    \"The dog played in the yard\",\n",
    "    \"I love programming in Python\",\n",
    "    \"Python is my favorite programming language\"\n",
    "]\n",
    "\n",
    "embedding_sentence=embeddings.embed_documents(sentences)\n",
    "\n",
    "print(embedding_sentence[0])\n",
    "print(embedding_sentence[1])"
   ]
  },
  {
   "cell_type": "markdown",
   "metadata": {},
   "source": [
    "### HuggingFaceEmbeddings use cases"
   ]
  },
  {
   "cell_type": "code",
   "execution_count": null,
   "metadata": {},
   "outputs": [],
   "source": [
    "from langchain_huggingface import HuggingFaceEmbeddings\n",
    "import time\n",
    "\n",
    "# Popular models comparison\n",
    "models = {\n",
    "    \"all-MiniLM-L6-v2\": {\n",
    "        \"size\": 384,\n",
    "        \"description\": \"Fast and efficient, good quality\",\n",
    "        \"use_case\": \"General purpose, real-time applications\"\n",
    "    },\n",
    "    \"all-mpnet-base-v2\": {\n",
    "        \"size\": 768,\n",
    "        \"description\": \"Best quality, slower than MiniLM\",\n",
    "        \"use_case\": \"When quality matters more than speed\"\n",
    "    },\n",
    "    \"all-MiniLM-L12-v2\": {\n",
    "        \"size\": 384,\n",
    "        \"description\": \"Slightly better than L6, bit slower\",\n",
    "        \"use_case\": \"Good balance of speed and quality\"\n",
    "    },\n",
    "    \"multi-qa-MiniLM-L6-cos-v1\": {\n",
    "        \"size\": 384,\n",
    "        \"description\": \"Optimized for question-answering\",\n",
    "        \"use_case\": \"Q&A systems, semantic search\"\n",
    "    },\n",
    "    \"paraphrase-multilingual-MiniLM-L12-v2\": {\n",
    "        \"size\": 384,\n",
    "        \"description\": \"Supports 50+ languages\",\n",
    "        \"use_case\": \"Multilingual applications\"\n",
    "    }\n",
    "}\n",
    "\n",
    "print(\"📊 Popular Open Source Embedding Models:\\n\")\n",
    "for model_name, info in models.items():\n",
    "    print(f\"Model: sentence-transformers/{model_name}\")\n",
    "    print(f\"  📏 Embedding size: {info['size']} dimensions\")\n",
    "    print(f\"  📝 Description: {info['description']}\")\n",
    "    print(f\"  🎯 Use case: {info['use_case']}\\n\")\n"
   ]
  }
 ],
 "metadata": {
  "kernelspec": {
   "display_name": ".venv",
   "language": "python",
   "name": "python3"
  },
  "language_info": {
   "codemirror_mode": {
    "name": "ipython",
    "version": 3
   },
   "file_extension": ".py",
   "mimetype": "text/x-python",
   "name": "python",
   "nbconvert_exporter": "python",
   "pygments_lexer": "ipython3",
   "version": "3.13.7"
  },
  "orig_nbformat": 4
 },
 "nbformat": 4,
 "nbformat_minor": 2
}
