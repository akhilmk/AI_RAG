{
 "cells": [
  {
   "cell_type": "markdown",
   "id": "69dc89fe",
   "metadata": {},
   "source": [
    "# Load PDF"
   ]
  },
  {
   "cell_type": "code",
   "execution_count": 2,
   "id": "8e391f2a",
   "metadata": {},
   "outputs": [],
   "source": [
    "from langchain_community.document_loaders import(\n",
    "PyPDFLoader,\n",
    "PyMuPDFLoader,\n",
    "UnstructuredPDFLoader\n",
    ")"
   ]
  },
  {
   "cell_type": "code",
   "execution_count": null,
   "id": "4f4f523b",
   "metadata": {},
   "outputs": [],
   "source": [
    "# pdf loader\n",
    "\n",
    "try:\n",
    "    pypdf_loader = PyPDFLoader(\"data/pdf/attention.pdf\")\n",
    "    pypdf_docs = pypdf_loader.load()\n",
    "    print(pypdf_docs)\n",
    "\n",
    "except Exception as e:\n",
    "    print(f\"error :{e}\")"
   ]
  }
 ],
 "metadata": {
  "kernelspec": {
   "display_name": "ai-rag",
   "language": "python",
   "name": "python3"
  },
  "language_info": {
   "codemirror_mode": {
    "name": "ipython",
    "version": 3
   },
   "file_extension": ".py",
   "mimetype": "text/x-python",
   "name": "python",
   "nbconvert_exporter": "python",
   "pygments_lexer": "ipython3",
   "version": "3.13.5"
  }
 },
 "nbformat": 4,
 "nbformat_minor": 5
}
