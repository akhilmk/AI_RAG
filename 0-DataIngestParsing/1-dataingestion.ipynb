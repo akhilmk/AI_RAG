{
 "cells": [
  {
   "cell_type": "code",
   "execution_count": 1,
   "id": "2a8f2477",
   "metadata": {},
   "outputs": [],
   "source": [
    "import os\n",
    "from typing import List, Dict, Any\n",
    "import pandas as pd"
   ]
  },
  {
   "cell_type": "code",
   "execution_count": 5,
   "id": "10b2df3c",
   "metadata": {},
   "outputs": [
    {
     "name": "stdout",
     "output_type": "stream",
     "text": [
      "setup completed\n"
     ]
    }
   ],
   "source": [
    "from langchain_core.documents import Document\n",
    "from langchain.text_splitter import(\n",
    "    RecursiveCharacterTextSplitter,\n",
    "    CharacterTextSplitter,\n",
    "    TokenTextSplitter,\n",
    ")\n",
    "\n",
    "print(\"setup completed\")"
   ]
  },
  {
   "cell_type": "markdown",
   "id": "0703327e",
   "metadata": {},
   "source": [
    "### Understanding Document Structure in LangChain"
   ]
  },
  {
   "cell_type": "code",
   "execution_count": 11,
   "id": "6cfabbd1",
   "metadata": {},
   "outputs": [
    {
     "name": "stdout",
     "output_type": "stream",
     "text": [
      "document created..!\n",
      "content: this is main text content that is used for processing\n",
      "metadata: {'source': 'example.txt', 'page': 1, 'author': 'Akhil', 'date': '2025-08-17', 'tags': ['data', 'ingestion', 'langchain']}\n"
     ]
    }
   ],
   "source": [
    "## create a document\n",
    "doc = Document(\n",
    "    page_content=\"this is main text content that is used for processing\",\n",
    "    metadata={\n",
    "        \"source\": \"example.txt\",\n",
    "        \"page\": 1,\n",
    "        \"author\": \"Akhil\",\n",
    "        \"date\": \"2025-08-17\",\n",
    "        \"tags\": [\"data\", \"ingestion\", \"langchain\"],\n",
    "    }\n",
    ")\n",
    "\n",
    "print(f\"document created..!\\ncontent: {doc.page_content}\")\n",
    "print(f\"metadata: {doc.metadata}\")"
   ]
  },
  {
   "cell_type": "markdown",
   "id": "96d996ba",
   "metadata": {},
   "source": [
    "## Text File Reading"
   ]
  },
  {
   "cell_type": "code",
   "execution_count": 12,
   "id": "eca97a70",
   "metadata": {},
   "outputs": [],
   "source": [
    "import os\n",
    "os.makedirs(\"data/text_files\", exist_ok=True)"
   ]
  },
  {
   "cell_type": "code",
   "execution_count": null,
   "id": "c556f248",
   "metadata": {},
   "outputs": [
    {
     "ename": "SyntaxError",
     "evalue": "invalid syntax (3900316210.py, line 22)",
     "output_type": "error",
     "traceback": [
      "  \u001b[36mCell\u001b[39m\u001b[36m \u001b[39m\u001b[32mIn[13]\u001b[39m\u001b[32m, line 22\u001b[39m\n\u001b[31m    \u001b[39m\u001b[31mfor filepath,content sample_text.items():\u001b[39m\n                         ^\n\u001b[31mSyntaxError\u001b[39m\u001b[31m:\u001b[39m invalid syntax\n"
     ]
    }
   ],
   "source": [
    "sample_text = {\n",
    "    \"data/text_files/python_intro.txt\": \"\"\"Python Programming Introduction\n",
    "Python is a high-level, interpreted programming language known for its readability and versatility. \n",
    "It supports multiple programming paradigms, including procedural, object-oriented, and functional programming. \n",
    "Python's extensive standard library and active community make it a popular choice for web development, data analysis, \n",
    "artificial intelligence, scientific computing, and more.\n",
    "Python's syntax is designed to be clear and straightforward, which makes it an excellent language for beginners.\n",
    "Python supports dynamic typing, meaning that variable types are determined at runtime, allowing for flexibility in coding.\n",
    "Python's extensive libraries and frameworks, such as Django for web development and Pandas for data analysis,\n",
    "make it a powerful tool for developers across various domains.\"\"\",\n",
    "\n",
    "\"data/text_files/machine_learning.txt\": \"\"\"Machine Learning Overview\n",
    "Machine learning is a subset of artificial intelligence that focuses on building systems that can learn from and make predictions based on data.\n",
    "It involves the use of algorithms and statistical models to enable computers to improve their performance on a specific task through experience.\n",
    "Machine learning can be categorized into three main types: supervised learning, unsupervised learning, and  reinforcement learning.\n",
    "Supervised learning involves training a model on labeled data, where the input data is paired with the  correct output.\n",
    "Unsupervised learning involves training a model on unlabeled data, allowing the model to find patterns and relationships in the data without explicit instructions.\n",
    "Reinforcement learning involves training an agent to make decisions by rewarding it for correct actions and penalizing it for incorrect actions.\n",
    "Machine learning is widely used in various applications, including image recognition, natural language processing, and recommendation systems.\"\"\",\n",
    "}\n",
    "\n",
    "for filepath,content in sample_text.items():\n",
    "    with open(filepath, \"w\",encoding=\"utf-8\") as file:\n",
    "        file.write(content)\n",
    "\n",
    "print(\"Sample text files created in 'data/text_files' directory.\")"
   ]
  }
 ],
 "metadata": {
  "kernelspec": {
   "display_name": "ai-rag",
   "language": "python",
   "name": "python3"
  },
  "language_info": {
   "codemirror_mode": {
    "name": "ipython",
    "version": 3
   },
   "file_extension": ".py",
   "mimetype": "text/x-python",
   "name": "python",
   "nbconvert_exporter": "python",
   "pygments_lexer": "ipython3",
   "version": "3.13.5"
  }
 },
 "nbformat": 4,
 "nbformat_minor": 5
}
