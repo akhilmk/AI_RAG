{
 "cells": [
  {
   "cell_type": "code",
   "execution_count": 3,
   "id": "2a8f2477",
   "metadata": {},
   "outputs": [
    {
     "name": "stdout",
     "output_type": "stream",
     "text": [
      "hello langchain 0.3.27\n"
     ]
    }
   ],
   "source": [
    "import langchain\n",
    "\n",
    "print(\"hello langchain\", langchain.__version__)"
   ]
  }
 ],
 "metadata": {
  "kernelspec": {
   "display_name": "ai-rag",
   "language": "python",
   "name": "python3"
  },
  "language_info": {
   "codemirror_mode": {
    "name": "ipython",
    "version": 3
   },
   "file_extension": ".py",
   "mimetype": "text/x-python",
   "name": "python",
   "nbconvert_exporter": "python",
   "pygments_lexer": "ipython3",
   "version": "3.13.5"
  }
 },
 "nbformat": 4,
 "nbformat_minor": 5
}
