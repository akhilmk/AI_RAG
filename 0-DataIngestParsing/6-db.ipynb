{
 "cells": [
  {
   "cell_type": "markdown",
   "metadata": {},
   "source": [
    "# SQL Database"
   ]
  },
  {
   "cell_type": "markdown",
   "metadata": {},
   "source": [
    "## Create DB and Insert data"
   ]
  },
  {
   "cell_type": "code",
   "execution_count": 10,
   "metadata": {},
   "outputs": [],
   "source": [
    "## create sample SQLite Database\n",
    "import sqlite3\n",
    "import os\n",
    "\n",
    "os.makedirs(\"data/databases\",exist_ok=True)\n"
   ]
  },
  {
   "cell_type": "code",
   "execution_count": 18,
   "metadata": {},
   "outputs": [],
   "source": [
    "# create database\n",
    "\n",
    "conn=sqlite3.connect('data/databases/company.db')\n",
    "cursor=conn.cursor()"
   ]
  },
  {
   "cell_type": "code",
   "execution_count": 19,
   "metadata": {},
   "outputs": [
    {
     "data": {
      "text/plain": [
       "<sqlite3.Cursor at 0x2b9f0039c40>"
      ]
     },
     "execution_count": 19,
     "metadata": {},
     "output_type": "execute_result"
    }
   ],
   "source": [
    "# Create tables\n",
    "cursor.execute('''CREATE TABLE IF NOT EXISTS employees\n",
    "                 (id INTEGER PRIMARY KEY, name TEXT, role TEXT, department TEXT, salary REAL)''')\n",
    "\n",
    "cursor.execute('''CREATE TABLE IF NOT EXISTS projects\n",
    "                 (id INTEGER PRIMARY KEY, name TEXT, status TEXT, budget REAL, lead_id INTEGER)''')"
   ]
  },
  {
   "cell_type": "code",
   "execution_count": 20,
   "metadata": {},
   "outputs": [
    {
     "data": {
      "text/plain": [
       "<sqlite3.Cursor at 0x2b9f0039c40>"
      ]
     },
     "execution_count": 20,
     "metadata": {},
     "output_type": "execute_result"
    }
   ],
   "source": [
    "# insert data\n",
    "employees = [\n",
    "    (1, 'John Doe', 'Senior Developer', 'Engineering', 95000),\n",
    "    (2, 'Jane Smith', 'Data Scientist', 'Analytics', 105000),\n",
    "    (3, 'Mike Johnson', 'Product Manager', 'Product', 110000),\n",
    "    (4, 'Sarah Williams', 'DevOps Engineer', 'Engineering', 98000)\n",
    "]\n",
    "\n",
    "projects = [\n",
    "    (1, 'RAG Implementation', 'Active', 150000, 1),\n",
    "    (2, 'Data Pipeline', 'Completed', 80000, 2),\n",
    "    (3, 'Customer Portal', 'Planning', 200000, 3),\n",
    "    (4, 'ML Platform', 'Active', 250000, 2)\n",
    "]\n",
    "\n",
    "cursor.executemany('INSERT OR REPLACE INTO employees VALUES (?,?,?,?,?)', employees)\n",
    "cursor.executemany('INSERT OR REPLACE INTO projects VALUES (?,?,?,?,?)', projects)"
   ]
  },
  {
   "cell_type": "code",
   "execution_count": 21,
   "metadata": {},
   "outputs": [
    {
     "data": {
      "text/plain": [
       "<sqlite3.Cursor at 0x2b9f0039c40>"
      ]
     },
     "execution_count": 21,
     "metadata": {},
     "output_type": "execute_result"
    }
   ],
   "source": [
    "# get data\n",
    "cursor.execute(\"Select * from employees\")"
   ]
  },
  {
   "cell_type": "code",
   "execution_count": 22,
   "metadata": {},
   "outputs": [],
   "source": [
    "conn.commit()\n",
    "conn.close()"
   ]
  },
  {
   "cell_type": "markdown",
   "metadata": {},
   "source": [
    "## Database Data Extraction"
   ]
  },
  {
   "cell_type": "code",
   "execution_count": 23,
   "metadata": {},
   "outputs": [],
   "source": [
    "from langchain_community.utilities import SQLDatabase\n",
    "from langchain_community.document_loaders import SQLDatabaseLoader"
   ]
  },
  {
   "cell_type": "code",
   "execution_count": null,
   "metadata": {},
   "outputs": [],
   "source": [
    "# Method 1 - SQLDatabase\n",
    "db = SQLDatabase.from_uri(\"sqlite:///data/databases/company.db\")\n",
    "\n",
    "## get Database info\n",
    "print(f\"Tables: {db.get_usable_table_names()}\")\n",
    "print(f\"\\nTable DDL:\")\n",
    "print(db.get_table_info())"
   ]
  },
  {
   "cell_type": "code",
   "execution_count": 26,
   "metadata": {},
   "outputs": [],
   "source": [
    "from typing import List\n",
    "from langchain_core.documents import Document\n",
    "\n",
    "def sql_to_documents(db_path:str)-> List[Document]:\n",
    "    \"\"\"Convert SQL Database To documents with context\"\"\"\n",
    "    conn=sqlite3.connect(db_path)\n",
    "    cursor=conn.cursor()\n",
    "    documents=[]\n",
    "    # Strategy 1: Create documents for each table\n",
    "    cursor.execute(\"SELECT name FROM sqlite_master WHERE type='table';\")\n",
    "    tables = cursor.fetchall()\n",
    "\n",
    "    for table in tables:\n",
    "        table_name = table[0]\n",
    "        \n",
    "        # Get table schema\n",
    "        cursor.execute(f\"PRAGMA table_info({table_name});\")\n",
    "        columns = cursor.fetchall()\n",
    "        column_names = [col[1] for col in columns]\n",
    "        \n",
    "        # Get table data\n",
    "        cursor.execute(f\"SELECT * FROM {table_name}\")\n",
    "        rows = cursor.fetchall()\n",
    "        \n",
    "        # Create table overview document\n",
    "        table_content = f\"Table: {table_name}\\n\"\n",
    "        table_content += f\"Columns: {', '.join(column_names)}\\n\"\n",
    "        table_content += f\"Total Records: {len(rows)}\\n\\n\"\n",
    "        \n",
    "        # Add sample records\n",
    "        table_content += \"Sample Records:\\n\"\n",
    "        for row in rows[:5]:  # First 5 records\n",
    "            record = dict(zip(column_names, row))\n",
    "            table_content += f\"{record}\\n\"\n",
    "        \n",
    "        doc = Document(\n",
    "            page_content=table_content,\n",
    "            metadata={\n",
    "                'source': db_path,\n",
    "                'table_name': table_name,\n",
    "                'num_records': len(rows),\n",
    "                'data_type': 'sql_table'\n",
    "            }\n",
    "        )\n",
    "        documents.append(doc)\n",
    "\n",
    "     # Strategy 2: Create relationship documents\n",
    "    # Example: Join employees and projects\n",
    "    cursor.execute(\"\"\"\n",
    "        SELECT e.name, e.role, p.name as project_name, p.status\n",
    "        FROM employees e\n",
    "        JOIN projects p ON e.id = p.lead_id\n",
    "    \"\"\")\n",
    "    \n",
    "    relationships = cursor.fetchall()\n",
    "    rel_content = \"Employee-Project Relationships:\\n\\n\"\n",
    "    for rel in relationships:\n",
    "        rel_content += f\"{rel[0]} ({rel[1]}) leads {rel[2]} - Status: {rel[3]}\\n\"\n",
    "    \n",
    "    rel_doc = Document(\n",
    "        page_content=rel_content,\n",
    "        metadata={\n",
    "            'source': db_path,\n",
    "            'data_type': 'sql_relationships',\n",
    "            'query': 'employee_project_join'\n",
    "        }\n",
    "    )\n",
    "    documents.append(rel_doc)\n",
    "    \n",
    "    conn.close()\n",
    "    return documents"
   ]
  },
  {
   "cell_type": "code",
   "execution_count": 27,
   "metadata": {},
   "outputs": [
    {
     "data": {
      "text/plain": [
       "[Document(metadata={'source': 'data/databases/company.db', 'table_name': 'employees', 'num_records': 4, 'data_type': 'sql_table'}, page_content=\"Table: employees\\nColumns: id, name, role, department, salary\\nTotal Records: 4\\n\\nSample Records:\\n{'id': 1, 'name': 'John Doe', 'role': 'Senior Developer', 'department': 'Engineering', 'salary': 95000.0}\\n{'id': 2, 'name': 'Jane Smith', 'role': 'Data Scientist', 'department': 'Analytics', 'salary': 105000.0}\\n{'id': 3, 'name': 'Mike Johnson', 'role': 'Product Manager', 'department': 'Product', 'salary': 110000.0}\\n{'id': 4, 'name': 'Sarah Williams', 'role': 'DevOps Engineer', 'department': 'Engineering', 'salary': 98000.0}\\n\"),\n",
       " Document(metadata={'source': 'data/databases/company.db', 'table_name': 'projects', 'num_records': 4, 'data_type': 'sql_table'}, page_content=\"Table: projects\\nColumns: id, name, status, budget, lead_id\\nTotal Records: 4\\n\\nSample Records:\\n{'id': 1, 'name': 'RAG Implementation', 'status': 'Active', 'budget': 150000.0, 'lead_id': 1}\\n{'id': 2, 'name': 'Data Pipeline', 'status': 'Completed', 'budget': 80000.0, 'lead_id': 2}\\n{'id': 3, 'name': 'Customer Portal', 'status': 'Planning', 'budget': 200000.0, 'lead_id': 3}\\n{'id': 4, 'name': 'ML Platform', 'status': 'Active', 'budget': 250000.0, 'lead_id': 2}\\n\"),\n",
       " Document(metadata={'source': 'data/databases/company.db', 'data_type': 'sql_relationships', 'query': 'employee_project_join'}, page_content='Employee-Project Relationships:\\n\\nJohn Doe (Senior Developer) leads RAG Implementation - Status: Active\\nJane Smith (Data Scientist) leads Data Pipeline - Status: Completed\\nMike Johnson (Product Manager) leads Customer Portal - Status: Planning\\nJane Smith (Data Scientist) leads ML Platform - Status: Active\\n')]"
      ]
     },
     "execution_count": 27,
     "metadata": {},
     "output_type": "execute_result"
    }
   ],
   "source": [
    "sql_to_documents(\"data/databases/company.db\")"
   ]
  },
  {
   "cell_type": "code",
   "execution_count": null,
   "metadata": {},
   "outputs": [],
   "source": []
  }
 ],
 "metadata": {
  "kernelspec": {
   "display_name": ".venv",
   "language": "python",
   "name": "python3"
  },
  "language_info": {
   "codemirror_mode": {
    "name": "ipython",
    "version": 3
   },
   "file_extension": ".py",
   "mimetype": "text/x-python",
   "name": "python",
   "nbconvert_exporter": "python",
   "pygments_lexer": "ipython3",
   "version": "3.13.7"
  },
  "orig_nbformat": 4
 },
 "nbformat": 4,
 "nbformat_minor": 2
}
