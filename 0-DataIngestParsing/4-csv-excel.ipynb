{
 "cells": [
  {
   "cell_type": "markdown",
   "id": "534c1583",
   "metadata": {},
   "source": [
    "# Structured Data -CSV and Excel Parsing"
   ]
  },
  {
   "cell_type": "code",
   "execution_count": null,
   "id": "623f4490",
   "metadata": {},
   "outputs": [],
   "source": [
    "import pandas as pd\n",
    "import os\n"
   ]
  },
  {
   "cell_type": "markdown",
   "id": "56cc9d98",
   "metadata": {},
   "source": [
    "## Create CSV and Excel"
   ]
  },
  {
   "cell_type": "code",
   "execution_count": null,
   "id": "e531faf6",
   "metadata": {},
   "outputs": [],
   "source": [
    "os.makedirs(\"data/structured\", exist_ok=True)\n",
    "\n",
    "# create data\n",
    "data = {\n",
    "    'Product': ['Laptop', 'Mouse', 'Keyboard', 'Monitor', 'Webcam'],\n",
    "    'Category': ['Electronics', 'Accessories', 'Accessories', 'Electronics', 'Electronics'],\n",
    "    'Price': [999.99, 29.99, 79.99, 299.99, 89.99],\n",
    "    'Stock': [50, 200, 150, 75, 100],\n",
    "    'Description': [\n",
    "        'High-performance laptop with 16GB RAM and 512GB SSD',\n",
    "        'Wireless optical mouse with ergonomic design',\n",
    "        'Mechanical keyboard with RGB backlighting',\n",
    "        '27-inch 4K monitor with HDR support',\n",
    "        '1080p webcam with noise cancellation'\n",
    "    ]\n",
    "}\n",
    "\n",
    "# Save as CSV\n",
    "df = pd.DataFrame(data)\n",
    "df.to_csv('data/structured/products.csv', index=False)\n",
    "\n",
    "# Save data as Excel with multiple sheets\n",
    "with pd.ExcelWriter('data/structured/inventory.xlsx') as writer:\n",
    "    df.to_excel(writer, sheet_name='Products', index=False)\n",
    "    \n",
    "    # Add another sheet\n",
    "    summary_data = {\n",
    "        'Category': ['Electronics', 'Accessories'],\n",
    "        'Total_Items': [3, 2],\n",
    "        'Total_Value': [1389.97, 109.98]\n",
    "    }\n",
    "    pd.DataFrame(summary_data).to_excel(writer, sheet_name='Summary', index=False)"
   ]
  },
  {
   "cell_type": "markdown",
   "id": "6cc0bcb2",
   "metadata": {},
   "source": [
    "## CSV Processing"
   ]
  },
  {
   "cell_type": "code",
   "execution_count": null,
   "id": "7f89f7a6",
   "metadata": {},
   "outputs": [],
   "source": [
    "from langchain_community.document_loaders import CSVLoader, UnstructuredCSVLoader"
   ]
  },
  {
   "cell_type": "markdown",
   "id": "8a1656e9",
   "metadata": {},
   "source": [
    "### Methods 1 - Each Row Become as Document"
   ]
  },
  {
   "cell_type": "code",
   "execution_count": null,
   "id": "be83cbc0",
   "metadata": {},
   "outputs": [],
   "source": [
    "csv_loader = CSVLoader(\n",
    "    file_path='data/structured/products.csv',\n",
    "    encoding='utf-8',\n",
    "    csv_args={\n",
    "        'delimiter': ',',\n",
    "        'quotechar': '\"',\n",
    "    }\n",
    ")\n",
    "\n",
    "csv_docs = csv_loader.load()\n",
    "print(f\"loaded {len(csv_docs)} data in the CSV\")\n",
    "print(\"------\"*5)\n",
    "print(f\"First doc Content:\\n {csv_docs[0].page_content}\")\n",
    "print(\"------\"*5)\n",
    "print(f\"First doc Metadata:\\n {csv_docs[0].metadata}\")"
   ]
  },
  {
   "cell_type": "markdown",
   "id": "186093fa",
   "metadata": {},
   "source": [
    "### Method 2: Custom CSV With Structure and Metadata"
   ]
  },
  {
   "cell_type": "code",
   "execution_count": null,
   "id": "b69fcaa5",
   "metadata": {},
   "outputs": [],
   "source": [
    "from typing import List\n",
    "from langchain_core.documents import Document\n",
    "\n",
    "\n",
    "def process_csv_intelligently(filepath: str) -> List[Document]:\n",
    "    \"\"\"Process CSV with intelligent document creation\"\"\"\n",
    "    df = pd.read_csv(filepath)\n",
    "    documents = []\n",
    "    \n",
    "    for idx, row in df.iterrows():\n",
    "        # Create structured content\n",
    "        content = f\"\"\"Product Information:\n",
    "        Name: {row['Product']}\n",
    "        Category: {row['Category']}\n",
    "        Price: ${row['Price']}\n",
    "        Stock: {row['Stock']} units\n",
    "        Description: {row['Description']}\"\"\"\n",
    "        \n",
    "        # Create document with rich metadata\n",
    "        doc = Document(\n",
    "            page_content=content,\n",
    "            metadata={\n",
    "                'source': filepath,\n",
    "                'row_index': idx,\n",
    "                'product_name': row['Product'],\n",
    "                'category': row['Category'],\n",
    "                'price': row['Price'],\n",
    "                'data_type': 'product_info'\n",
    "            }\n",
    "        )\n",
    "        documents.append(doc)\n",
    "    return documents"
   ]
  },
  {
   "cell_type": "code",
   "execution_count": null,
   "id": "01502c0c",
   "metadata": {},
   "outputs": [],
   "source": [
    "process_csv_intelligently('data/structured/products.csv')\n",
    "\n",
    "# 📊 CSV Processing Strategies\n",
    "print(\"\\n📊 CSV Processing Strategies:\")\n",
    "print(\"\\n1. Row-based (CSVLoader):\")\n",
    "print(\"  ✅ Simple one-row-one-document\")\n",
    "print(\"  ✅ Good for record lookups\")\n",
    "print(\"  ❌ Loses table context\")\n",
    "\n",
    "print(\"\\n2. Intelligent Processing:\")\n",
    "print(\"  ✅ Preserves relationships\")\n",
    "print(\"  ✅ Creates summaries\")\n",
    "print(\"  ✅ Rich metadata\")\n",
    "print(\"  ✅ Better for Q&A\")"
   ]
  },
  {
   "cell_type": "markdown",
   "id": "28562f15",
   "metadata": {},
   "source": [
    "## Excel Processing"
   ]
  },
  {
   "cell_type": "markdown",
   "id": "63b58dfc",
   "metadata": {},
   "source": [
    "### Pandas for Full Control"
   ]
  },
  {
   "cell_type": "code",
   "execution_count": null,
   "id": "56417bfb",
   "metadata": {},
   "outputs": [],
   "source": [
    "\n",
    "def process_excel_with_pandas(filepath: str) -> List[Document]:\n",
    "    \"\"\"Process Excel with sheet awareness\"\"\"\n",
    "    documents = []\n",
    "    \n",
    "    # Read all sheets\n",
    "    excel_file = pd.ExcelFile(filepath)\n",
    "    \n",
    "    for sheet_name in excel_file.sheet_names:\n",
    "        df = pd.read_excel(filepath, sheet_name=sheet_name)\n",
    "        \n",
    "        # Create document for each sheet\n",
    "        sheet_content = f\"Sheet: {sheet_name}\\n\"\n",
    "        sheet_content += f\"Columns: {', '.join(df.columns)}\\n\"\n",
    "        sheet_content += f\"Rows: {len(df)}\\n\\n\"\n",
    "        sheet_content += df.to_string(index=False)\n",
    "        \n",
    "        doc = Document(\n",
    "            page_content=sheet_content,\n",
    "            metadata={\n",
    "                'source': filepath,\n",
    "                'sheet_name': sheet_name,\n",
    "                'num_rows': len(df),\n",
    "                'num_columns': len(df.columns),\n",
    "                'data_type': 'excel_sheet'\n",
    "            }\n",
    "        )\n",
    "        documents.append(doc)\n",
    "    \n",
    "    return documents"
   ]
  },
  {
   "cell_type": "code",
   "execution_count": null,
   "id": "ea8aac26",
   "metadata": {},
   "outputs": [],
   "source": [
    "excel_docs = process_excel_with_pandas('data/structured/inventory.xlsx')\n",
    "print(f\"Processed {len(excel_docs)} sheets\\n--------\")\n",
    "excel_docs"
   ]
  },
  {
   "cell_type": "markdown",
   "id": "e5528cda",
   "metadata": {},
   "source": [
    "### Unstructured Excel Loader"
   ]
  },
  {
   "cell_type": "code",
   "execution_count": 36,
   "id": "2567b66f",
   "metadata": {},
   "outputs": [
    {
     "name": "stdout",
     "output_type": "stream",
     "text": [
      "  ✅ Handles complex Excel features\n",
      "  ✅ Preserves formatting info\n",
      "length of docs 2\n",
      "doc 0 :\n",
      " page_content='Product Category Price Stock Description Laptop Electronics 999.99 50 High-performance laptop with 16GB RAM and 512GB SSD Mouse Accessories 29.99 200 Wireless optical mouse with ergonomic design Keyboard Accessories 79.99 150 Mechanical keyboard with RGB backlighting Monitor Electronics 299.99 75 27-inch 4K monitor with HDR support Webcam Electronics 89.99 100 1080p webcam with noise cancellation' metadata={'source': 'data/structured/inventory.xlsx', 'file_directory': 'data/structured', 'filename': 'inventory.xlsx', 'last_modified': '2025-08-24T20:10:18', 'page_name': 'Products', 'page_number': 1, 'text_as_html': '<table><tr><td>Product</td><td>Category</td><td>Price</td><td>Stock</td><td>Description</td></tr><tr><td>Laptop</td><td>Electronics</td><td>999.99</td><td>50</td><td>High-performance laptop with 16GB RAM and 512GB SSD</td></tr><tr><td>Mouse</td><td>Accessories</td><td>29.99</td><td>200</td><td>Wireless optical mouse with ergonomic design</td></tr><tr><td>Keyboard</td><td>Accessories</td><td>79.99</td><td>150</td><td>Mechanical keyboard with RGB backlighting</td></tr><tr><td>Monitor</td><td>Electronics</td><td>299.99</td><td>75</td><td>27-inch 4K monitor with HDR support</td></tr><tr><td>Webcam</td><td>Electronics</td><td>89.99</td><td>100</td><td>1080p webcam with noise cancellation</td></tr></table>', 'languages': ['eng'], 'filetype': 'application/vnd.openxmlformats-officedocument.spreadsheetml.sheet', 'category': 'Table', 'element_id': '6c3514d8bca67e1cbfa020192b595264'}\n",
      "doc 1 :\n",
      " page_content='Category Total_Items Total_Value Electronics 3 1389.97 Accessories 2 109.98' metadata={'source': 'data/structured/inventory.xlsx', 'file_directory': 'data/structured', 'filename': 'inventory.xlsx', 'last_modified': '2025-08-24T20:10:18', 'page_name': 'Summary', 'page_number': 2, 'text_as_html': '<table><tr><td>Category</td><td>Total_Items</td><td>Total_Value</td></tr><tr><td>Electronics</td><td>3</td><td>1389.97</td></tr><tr><td>Accessories</td><td>2</td><td>109.98</td></tr></table>', 'languages': ['eng'], 'filetype': 'application/vnd.openxmlformats-officedocument.spreadsheetml.sheet', 'category': 'Table', 'element_id': 'dcf57c06f0490353601c69aaefb62f83'}\n"
     ]
    }
   ],
   "source": [
    "from langchain_community.document_loaders import UnstructuredExcelLoader\n",
    "try:\n",
    "    excel_loader = UnstructuredExcelLoader(\n",
    "        'data/structured/inventory.xlsx',\n",
    "        mode=\"elements\"\n",
    "    )\n",
    "    unstructured_docs = excel_loader.load()\n",
    "    print(\"  ✅ Handles complex Excel features\")\n",
    "    print(\"  ✅ Preserves formatting info\")\n",
    "except Exception as e:\n",
    "    print(f\"error :\\n {e}\")\n",
    "\n",
    "\n",
    "print(f\"length of docs {len(unstructured_docs)}\")\n",
    "for i, doc in enumerate(unstructured_docs):\n",
    "    print(f\"doc {i} :\\n {doc}\")"
   ]
  },
  {
   "cell_type": "code",
   "execution_count": null,
   "id": "e3154cd4",
   "metadata": {},
   "outputs": [],
   "source": []
  }
 ],
 "metadata": {
  "kernelspec": {
   "display_name": "ai-rag",
   "language": "python",
   "name": "python3"
  },
  "language_info": {
   "codemirror_mode": {
    "name": "ipython",
    "version": 3
   },
   "file_extension": ".py",
   "mimetype": "text/x-python",
   "name": "python",
   "nbconvert_exporter": "python",
   "pygments_lexer": "ipython3",
   "version": "3.13.5"
  }
 },
 "nbformat": 4,
 "nbformat_minor": 5
}
