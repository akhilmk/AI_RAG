{
 "cells": [
  {
   "cell_type": "markdown",
   "id": "78bfeb06",
   "metadata": {},
   "source": [
    "# Word document processing"
   ]
  },
  {
   "cell_type": "code",
   "execution_count": null,
   "id": "4d6f1d6c",
   "metadata": {},
   "outputs": [],
   "source": [
    "from docx import Document as DocxDocument\n",
    "import os\n",
    "\n",
    "# doc loader libraries\n",
    "from langchain_community.document_loaders import Docx2txtLoader, UnstructuredWordDocumentLoader"
   ]
  },
  {
   "cell_type": "markdown",
   "id": "d688b7bb",
   "metadata": {},
   "source": [
    "## Method 1 : Docx2txtLoader"
   ]
  },
  {
   "cell_type": "code",
   "execution_count": null,
   "id": "ec50c045",
   "metadata": {},
   "outputs": [],
   "source": [
    "\n",
    "try:\n",
    "    docx_loader =Docx2txtLoader(\"data/doc/attention.docx\")\n",
    "    docs = docx_loader.load()\n",
    "    print(f\"loaded pages: {len(docs)}\")\n",
    "    print(f\"content page 0 :\\n {docs[0].page_content[0:100]}\")\n",
    "    print(f\"metadata page 0:\\n {docs[0].metadata}\")\n",
    "except Exception as e:\n",
    "    print(f\"error loading doc : {e}\")\n"
   ]
  },
  {
   "cell_type": "markdown",
   "id": "c64ff8a6",
   "metadata": {},
   "source": [
    "## Methods 2 : UnstructuredWordDocumentLoader"
   ]
  },
  {
   "cell_type": "code",
   "execution_count": null,
   "id": "10c52402",
   "metadata": {},
   "outputs": [],
   "source": [
    "\n",
    "try:\n",
    "    unstructured_loader = UnstructuredWordDocumentLoader(\"data/doc/attention.docx\",\n",
    "                                                 mode=\"elements\")\n",
    "    unstructured_doc =unstructured_loader.load()\n",
    "   \n",
    "    print(f\"loaded {len(unstructured_doc)} unstructured documents\")\n",
    "    print(f\"content doc 0 :\\n {unstructured_doc[0].page_content[0:100]}\")\n",
    "    print(f\"metadata doc 0:\\n {unstructured_doc[0].metadata}\")\n",
    "    print(f\"-\"*20)\n",
    "    \n",
    "    # loop and see first 3 elements\n",
    "    for i, doc in enumerate(unstructured_doc[0:3]):\n",
    "        print(f\"\\nelement : {i+1}\")\n",
    "        print(f\"category : {doc.metadata.get('category','unknown')}\")\n",
    "        print(f\"content : {doc.page_content[0:100]}\")\n",
    "              \n",
    "except Exception as e:\n",
    "    print(f\"error {e}\")"
   ]
  }
 ],
 "metadata": {
  "kernelspec": {
   "display_name": "ai-rag",
   "language": "python",
   "name": "python3"
  },
  "language_info": {
   "codemirror_mode": {
    "name": "ipython",
    "version": 3
   },
   "file_extension": ".py",
   "mimetype": "text/x-python",
   "name": "python",
   "nbconvert_exporter": "python",
   "pygments_lexer": "ipython3",
   "version": "3.13.5"
  }
 },
 "nbformat": 4,
 "nbformat_minor": 5
}
